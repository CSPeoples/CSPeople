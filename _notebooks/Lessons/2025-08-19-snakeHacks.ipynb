{
 "cells": [
  {
   "cell_type": "raw",
   "id": "5bcdd9a4",
   "metadata": {
    "vscode": {
     "languageId": "raw"
    }
   },
   "source": [
    "---\n",
    "title: Gaming Fundamentals & Snake\n",
    "comments: true\n",
    "layout: post\n",
    "permalink: /snakegaming\n",
    "description: A lesson about the basics of game development, including functions, variables, loops, conditionals, more using Snake as an example and a project to work on.\n",
    "author: Evan S, West S, Ethan W, Nico D\n",
    "---"
   ]
  },
  {
   "cell_type": "markdown",
   "id": "754f3a38",
   "metadata": {},
   "source": [
    "## Game Syntax Basics\n",
    "\n",
    "This lesson aims to teach you a few basic fundamentals of game design using Javascript.\n",
    "\n",
    "### Agenda\n",
    "\n",
    "- Show off the main components of the game\n",
    "- Break down some syntax\n",
    "- Show small components of the game and how they can be modified to create a better product\n",
    "- Assign Hacks (homework)\n",
    "\n",
    "## Snake Game Outline\n",
    "\n",
    "The snake game is composed of 2 main components on a Markdown page: style/display and logic.\n",
    "\n",
    " Markdown is especially helpful for creating games in one file because supports HTML, which allows you to embed both CSS (styling) and Javascript (scripts/game logic).\n",
    "  \n",
    "### Skeleton of the Game\n",
    "\n",
    "\n",
    "\n",
    "#### Frontmatter\n",
    "\n",
    "Frontmatter refers to a few lines of code at the beginning of a MarkDown web page that gives the search engine important infromation on how to run the site (title, subdomain, preset styles, etc.). It is very important for styling in MarkDown, as without it the engine would not know how to display the site and just use its defaults. Below is an example of the frontmatter used to run this site!"
   ]
  },
  {
   "cell_type": "raw",
   "id": "295509ac",
   "metadata": {
    "vscode": {
     "languageId": "raw"
    }
   },
   "source": [
    "frontmatter:\n",
    "---\n",
    "title: Gaming Fundamentals & Snake\n",
    "comments: true\n",
    "layout: post\n",
    "permalink: /snakegaming\n",
    "description: A lesson about the basics of game development, including functions, variables, loops, conditionals, more using Snake as an example and a project to work on.\n",
    "author: Evan S, West S, Ethan W, Nico D\n",
    "---"
   ]
  },
  {
   "cell_type": "markdown",
   "id": "a40c42cf",
   "metadata": {},
   "source": [
    "#### CSS Styling (controls the appearance of the page)\n",
    "CSS defines how the game looks, including layout, colors, and which screens are visible. It also handles user interaction styles like hover effects.\n"
   ]
  },
  {
   "cell_type": "code",
   "execution_count": null,
   "id": "4856e0d5",
   "metadata": {
    "vscode": {
     "languageId": "css"
    }
   },
   "outputs": [],
   "source": [
    "canvas {\n",
    "    border-style: solid;\n",
    "    border-width: 10px;\n",
    "    border-color: #FFFFFF;\n",
    "}"
   ]
  },
  {
   "cell_type": "markdown",
   "id": "e6f6b817",
   "metadata": {},
   "source": [
    "This gives the game canvas a visible white border, helping players clearly see the game area. CSS also hides or shows screens, like the menu and game-over screens, depending on the game state. Plenty of other parts of the page are defined and styled using CSS, like game over screens or text color for certain interactibles."
   ]
  },
  {
   "cell_type": "markdown",
   "id": "fc7fe912",
   "metadata": {},
   "source": [
    "\n",
    "### HTML Game Container\n",
    "HTML organizes the elements that make up the game: the canvas, score display, menus, and settings. It provides the structure and interactive elements that the JavaScript controls during gameplay.\n",
    "\n"
   ]
  },
  {
   "cell_type": "code",
   "execution_count": null,
   "id": "14e1fd1e",
   "metadata": {
    "vscode": {
     "languageId": "html"
    }
   },
   "outputs": [],
   "source": [
    "<div id=\"menu\" class=\"py-4 text-light\">\n",
    "    <p>Welcome to Snake, press <span \n",
    "    style=\"background-color: #FFFFFF; color: #000000\">space</span> to begin</p>\n",
    "    <a id=\"new_game\" class=\"link-alert\">new game</a>\n",
    "</div>"
   ]
  },
  {
   "cell_type": "markdown",
   "id": "eb7f1632",
   "metadata": {},
   "source": [
    "This creates the main menu with instructions and a button to start a new game. HTML allows users to interact with the game through buttons, links, and input options."
   ]
  },
  {
   "cell_type": "markdown",
   "id": "e9f0474e",
   "metadata": {},
   "source": [
    "### Game Initialization & Constants\n",
    "The game sets up essential constants and variables during initialization. Game constants define screen states, block size, and DOM (Document Object Model, look this up) element references for efficient access.\n"
   ]
  },
  {
   "cell_type": "code",
   "execution_count": null,
   "id": "14ba07d8",
   "metadata": {
    "vscode": {
     "languageId": "javascript"
    }
   },
   "outputs": [],
   "source": [
    "// Canvas & Context\n",
    "const canvas = document.getElementById(\"snake\");\n",
    "const ctx = canvas.getContext(\"2d\");\n",
    "\n",
    "// HTML Game IDs\n",
    "const SCREEN_SNAKE = 0;\n",
    "const screen_snake = document.getElementById(\"snake\");\n",
    "const ele_score = document.getElementById(\"score_value\");\n",
    "const speed_setting = document.getElementsByName(\"speed\");\n",
    "const wall_setting = document.getElementsByName(\"wall\");\n",
    "\n",
    "// HTML Screen IDs (div)\n",
    "const SCREEN_MENU = -1, SCREEN_GAME_OVER = 1, SCREEN_SETTING = 2;\n",
    "const screen_menu = document.getElementById(\"menu\");\n",
    "const screen_game_over = document.getElementById(\"gameover\");\n",
    "const screen_setting = document.getElementById(\"setting\");\n",
    "\n",
    "// HTML Event IDs (buttons)\n",
    "const button_new_game = document.getElementById(\"new_game\");\n",
    "const button_new_game1 = document.getElementById(\"new_game1\");\n",
    "const button_new_game2 = document.getElementById(\"new_game2\");\n",
    "const button_setting_menu = document.getElementById(\"setting_menu\");\n",
    "const button_setting_menu1 = document.getElementById(\"setting_menu1\");\n",
    "\n",
    "// Game Control Variables\n",
    "const BLOCK = 10;   // size of block rendering\n",
    "let SCREEN = SCREEN_MENU;\n",
    "let snake;\n",
    "let snake_dir;\n",
    "let snake_next_dir;\n",
    "let snake_speed;\n",
    "let food = {x: 0, y: 0};\n",
    "let score;\n",
    "let wall;"
   ]
  },
  {
   "cell_type": "markdown",
   "id": "82c4556f",
   "metadata": {},
   "source": [
    "### Game State Management\n",
    "The application uses a screen-based state system with constants to control which interface is visible. The `showScreen()` function handles all screen transitions by manipulating DOM element visibility."
   ]
  },
  {
   "cell_type": "code",
   "execution_count": null,
   "id": "a46f62fd",
   "metadata": {
    "vscode": {
     "languageId": "javascript"
    }
   },
   "outputs": [],
   "source": [
    "let showScreen = function(screen_opt){\n",
    "    SCREEN = screen_opt;\n",
    "    switch(screen_opt){\n",
    "        case SCREEN_SNAKE:\n",
    "            screen_snake.style.display = \"block\";\n",
    "            screen_menu.style.display = \"none\";\n",
    "            screen_setting.style.display = \"none\";\n",
    "            screen_game_over.style.display = \"none\";\n",
    "            break;\n",
    "        case SCREEN_GAME_OVER:\n",
    "            screen_snake.style.display = \"block\";\n",
    "            screen_menu.style.display = \"none\";\n",
    "            screen_setting.style.display = \"none\";\n",
    "            screen_game_over.style.display = \"block\";\n",
    "            break;\n",
    "        case SCREEN_SETTING:\n",
    "            screen_snake.style.display = \"none\";\n",
    "            screen_menu.style.display = \"none\";\n",
    "            screen_setting.style.display = \"block\";\n",
    "            screen_game_over.style.display = \"none\";\n",
    "            break;\n",
    "    }\n",
    "}"
   ]
  },
  {
   "cell_type": "markdown",
   "id": "d130a707",
   "metadata": {},
   "source": [
    "### Event Handling & Controls Setup\n",
    "Keyboard input uses event listeners for arrow keys with direction validation to prevent immediate reversal. The spacebar serves as a universal \"start/restart\" key across different screens. This is how the game listens to your inputs."
   ]
  },
  {
   "cell_type": "code",
   "execution_count": null,
   "id": "bca286e4",
   "metadata": {
    "vscode": {
     "languageId": "javascript"
    }
   },
   "outputs": [],
   "source": [
    "window.onload = function(){\n",
    "    // HTML Events to Functions - Button clicks\n",
    "    button_new_game.onclick = function(){newGame();};\n",
    "    button_new_game1.onclick = function(){newGame();};\n",
    "    button_new_game2.onclick = function(){newGame();};\n",
    "    button_setting_menu.onclick = function(){showScreen(SCREEN_SETTING);};\n",
    "    button_setting_menu1.onclick = function(){showScreen(SCREEN_SETTING);};\n",
    "    \n",
    "    // Speed setting event listeners\n",
    "    setSnakeSpeed(150);\n",
    "    for(let i = 0; i < speed_setting.length; i++){\n",
    "        speed_setting[i].addEventListener(\"click\", function(){\n",
    "            for(let i = 0; i < speed_setting.length; i++){\n",
    "                if(speed_setting[i].checked){\n",
    "                    setSnakeSpeed(speed_setting[i].value);\n",
    "                }\n",
    "            }\n",
    "        });\n",
    "    }\n",
    "    \n",
    "    // Wall setting event listeners\n",
    "    setWall(1);\n",
    "    for(let i = 0; i < wall_setting.length; i++){\n",
    "        wall_setting[i].addEventListener(\"click\", function(){\n",
    "            for(let i = 0; i < wall_setting.length; i++){\n",
    "                if(wall_setting[i].checked){\n",
    "                    setWall(wall_setting[i].value);\n",
    "                }\n",
    "            }\n",
    "        });\n",
    "    }\n",
    "    \n",
    "    // Spacebar detection for game start/restart\n",
    "    window.addEventListener(\"keydown\", function(evt) {\n",
    "        if(evt.code === \"Space\" && SCREEN !== SCREEN_SNAKE)\n",
    "            newGame();\n",
    "    }, true);\n",
    "}"
   ]
  }
 ],
 "metadata": {
  "language_info": {
   "name": "python"
  }
 },
 "nbformat": 4,
 "nbformat_minor": 5
}
