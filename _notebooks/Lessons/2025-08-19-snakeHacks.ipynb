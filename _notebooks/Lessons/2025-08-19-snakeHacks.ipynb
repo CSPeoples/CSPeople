{
 "cells": [
  {
   "cell_type": "raw",
   "id": "5bcdd9a4",
   "metadata": {
    "vscode": {
     "languageId": "raw"
    }
   },
   "source": [
    "---\n",
    "title: Gaming Fundamentals & Snake\n",
    "comments: true\n",
    "layout: post\n",
    "permalink: /snakegaming\n",
    "description: A lesson about the basics of game development, including functions, variables, loops, conditionals, more using Snake as an example and a project to work on.\n",
    "author: Evan S, West S, Ethan W, Nico D\n",
    "---"
   ]
  },
  {
   "cell_type": "markdown",
   "id": "754f3a38",
   "metadata": {},
   "source": [
    "## Game Syntax Basics\n",
    "\n",
    "This lesson aims to teach you a few basic fundamentals of game design using Javascript.\n",
    "\n",
    "### Agenda\n",
    "\n",
    "- Show off the main components of the game\n",
    "- Break down some syntax\n",
    "- Show small components of the game and how they can be modified to create a better product\n",
    "- Assign Hacks (homework)\n",
    "\n",
    "## Snake Game Outline\n",
    "\n",
    "The snake game is composed of 2 main components on a Markdown page: style/display and logic.\n",
    "\n",
    " Markdown is especially helpful for creating games in one file because supports HTML, which allows you to embed both CSS (styling) and Javascript (scripts/game logic).\n",
    "  \n",
    "### Skeleton of the Game\n",
    "\n",
    "\n",
    "\n",
    "#### Frontmatter\n",
    "\n",
    "Frontmatter refers to a few lines of code at the beginning of a MarkDown web page that gives the search engine important infromation on how to run the site (title, subdomain, preset styles, etc.). It is very important for styling in MarkDown, as without it the engine would not know how to display the site and just use its defaults. Below is an example of the frontmatter used to run this site!"
   ]
  },
  {
   "cell_type": "raw",
   "id": "295509ac",
   "metadata": {
    "vscode": {
     "languageId": "raw"
    }
   },
   "source": [
    "frontmatter:\n",
    "-- -\n",
    "title: Gaming Fundamentals & Snake\n",
    "comments: true\n",
    "layout: post\n",
    "permalink: /snakegaming\n",
    "description: A lesson about the basics of game development, including functions, variables, loops, conditionals, more using Snake as an example and a project to work on.\n",
    "author: Evan S, West S, Ethan W, Nico D\n",
    "-- -"
   ]
  },
  {
   "cell_type": "markdown",
   "id": "23a1628f",
   "metadata": {},
   "source": [
    "#### CSS Styling (controls the appearance of the page)\n",
    "\n",
    "\n",
    "\n",
    "#### HTML Game container (displays the game)\n",
    "\n",
    "\n",
    "\n",
    "#### Scripts containing JS game logic\n",
    "- Setup variables and event listeners\n",
    "- Main game loop\n",
    "- Other functions to make the game run properly\n",
    "In this lesson, we will go through each of these points and tell you hwo to create your own version of Snake while teaching you about JS and HTML fundamentals.\n",
    "\n",
    "\n",
    "\n",
    "### Frontmatter"
   ]
  },
  {
   "cell_type": "markdown",
   "id": "048bf8d3",
   "metadata": {},
   "source": [
    "no"
   ]
  }
 ],
 "metadata": {
  "language_info": {
   "name": "python"
  }
 },
 "nbformat": 4,
 "nbformat_minor": 5
}
