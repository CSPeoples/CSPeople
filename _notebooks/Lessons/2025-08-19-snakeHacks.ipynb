{
 "cells": [
  {
   "cell_type": "raw",
   "id": "5bcdd9a4",
   "metadata": {
    "vscode": {
     "languageId": "raw"
    }
   },
   "source": [
    "---\n",
    "title: Gaming Fundamentals & Snake\n",
    "comments: true\n",
    "layout: post\n",
    "permalink: /snakegaming\n",
    "description: A lesson about the basics of game development, including functions, variables, loops, conditionals, more using Snake as an example and a project to work on.\n",
    "author: Evan S, West S, Ethan W, Nico D\n",
    "---"
   ]
  },
  {
   "cell_type": "markdown",
   "id": "754f3a38",
   "metadata": {},
   "source": [
    "## Game Syntax Basics\n",
    "\n",
    "This lesson aims to teach you a few basic fundamentals of game design using Javascript.\n",
    "\n",
    "### Agenda\n",
    "\n",
    "- Show off the main components of the game\n",
    "- Break down some syntax\n",
    "- Show small components of the game and how they can be modified to create a better product\n",
    "- Assign Hacks (homework)\n",
    "\n",
    "## Snake Game Outline\n",
    "\n",
    "The snake game is composed of 2 main components on a Markdown page: style/display and logic.\n",
    "\n",
    " Markdown is especially helpful for creating games in one file because supports HTML, which allows you to embed both CSS (styling) and Javascript (scripts/game logic).\n",
    "  \n",
    "### Skeleton of the Game\n",
    "\n",
    "\n",
    "\n",
    "#### Frontmatter\n",
    "\n",
    "Frontmatter refers to a few lines of code at the beginning of a MarkDown web page that gives the search engine important infromation on how to run the site (title, subdomain, preset styles, etc.). It is very important for styling in MarkDown, as without it the engine would not know how to display the site and just use its defaults. Below is an example of the frontmatter used to run this site!"
   ]
  },
  {
   "cell_type": "raw",
   "id": "295509ac",
   "metadata": {
    "vscode": {
     "languageId": "raw"
    }
   },
   "source": [
    "frontmatter:\n",
    "---\n",
    "title: Gaming Fundamentals & Snake\n",
    "comments: true\n",
    "layout: post\n",
    "permalink: /snakegaming\n",
    "description: A lesson about the basics of game development, including functions, variables, loops, conditionals, more using Snake as an example and a project to work on.\n",
    "author: Evan S, West S, Ethan W, Nico D\n",
    "---"
   ]
  },
  {
   "cell_type": "markdown",
   "id": "a40c42cf",
   "metadata": {},
   "source": [
    "#### CSS Styling (controls the appearance of the page)\n",
    "CSS defines how the game looks, including layout, colors, and which screens are visible. It also handles user interaction styles like hover effects.\n"
   ]
  },
  {
   "cell_type": "code",
   "execution_count": null,
   "id": "4856e0d5",
   "metadata": {
    "vscode": {
     "languageId": "css"
    }
   },
   "outputs": [],
   "source": [
    "canvas {\n",
    "    border-style: solid;\n",
    "    border-width: 10px;\n",
    "    border-color: #FFFFFF;\n",
    "}"
   ]
  },
  {
   "cell_type": "markdown",
   "id": "e6f6b817",
   "metadata": {},
   "source": [
    "This gives the game canvas a visible white border, helping players clearly see the game area. CSS also hides or shows screens, like the menu and game-over screens, depending on the game state. Plenty of other parts of the page are defined and styled using CSS, like game over screens or text color for certain interactibles."
   ]
  },
  {
   "cell_type": "markdown",
   "id": "fc7fe912",
   "metadata": {},
   "source": [
    "\n",
    "#### HTML Game container (displays the game)\n",
    "HTML organizes the elements that make up the game: the canvas, score display, menus, and settings. It provides the structure and interactive elements that the JavaScript controls during gameplay.\n",
    "\n"
   ]
  },
  {
   "cell_type": "code",
   "execution_count": null,
   "id": "14e1fd1e",
   "metadata": {
    "vscode": {
     "languageId": "html"
    }
   },
   "outputs": [],
   "source": [
    "<div id=\"menu\" class=\"py-4 text-light\">\n",
    "    <p>Welcome to Snake, press <span \n",
    "    style=\"background-color: #FFFFFF; color: #000000\">space</span> to begin</p>\n",
    "    <a id=\"new_game\" class=\"link-alert\">new game</a>\n",
    "</div>"
   ]
  },
  {
   "cell_type": "markdown",
   "id": "eb7f1632",
   "metadata": {},
   "source": [
    "This creates the main menu with instructions and a button to start a new game. HTML allows users to interact with the game through buttons, links, and input options."
   ]
  },
  {
   "cell_type": "markdown",
   "id": "e9f0474e",
   "metadata": {},
   "source": [
    "\n",
    "#### Scripts containing JS game logic\n",
    "- Setup variables and event listeners\n",
    "- Main game loop\n",
    "- Other functions to make the game run properly\n",
    "In this lesson, we will go through each of these points and tell you hwo to create your own version of Snake while teaching you about JS and HTML fundamentals."
   ]
  },
  {
   "cell_type": "code",
   "execution_count": null,
   "id": "14ba07d8",
   "metadata": {
    "vscode": {
     "languageId": "javascript"
    }
   },
   "outputs": [],
   "source": [
    "(function(){\n",
    "        /* Attributes of Game */\n",
    "        /////////////////////////////////////////////////////////////\n",
    "        // Canvas & Context\n",
    "        const canvas = document.getElementById(\"snake\");\n",
    "        const ctx = canvas.getContext(\"2d\");\n",
    "        // HTML Game IDs\n",
    "        const SCREEN_SNAKE = 0;\n",
    "        const screen_snake = document.getElementById(\"snake\");\n",
    "        const ele_score = document.getElementById(\"score_value\");\n",
    "        const speed_setting = document.getElementsByName(\"speed\");\n",
    "        const wall_setting = document.getElementsByName(\"wall\");\n",
    "        // HTML Screen IDs (div)\n",
    "        const SCREEN_MENU = -1, SCREEN_GAME_OVER=1, SCREEN_SETTING=2;\n",
    "        const screen_menu = document.getElementById(\"menu\");\n",
    "        const screen_game_over = document.getElementById(\"gameover\");\n",
    "        const screen_setting = document.getElementById(\"setting\");\n",
    "        // HTML Event IDs (a tags)\n",
    "        const button_new_game = document.getElementById(\"new_game\");\n",
    "        const button_new_game1 = document.getElementById(\"new_game1\");\n",
    "        const button_new_game2 = document.getElementById(\"new_game2\");\n",
    "        const button_setting_menu = document.getElementById(\"setting_menu\");\n",
    "        const button_setting_menu1 = document.getElementById(\"setting_menu1\");\n",
    "        // Game Control\n",
    "        const BLOCK = 10;   // size of block rendering\n",
    "        let SCREEN = SCREEN_MENU;\n",
    "        let snake;\n",
    "        let snake_dir;\n",
    "        let snake_next_dir;\n",
    "        let snake_speed;\n",
    "        let food = {x: 0, y: 0};\n",
    "        let score;\n",
    "        let wall;\n",
    "        //..."
   ]
  },
  {
   "cell_type": "markdown",
   "id": "1a6bee19",
   "metadata": {},
   "source": [
    "This block of code at the start of the game loop declares many variable that are referenced later in the code. Variables are just pieces of data that you can givedifferent values to keep track of what's going on in your game, allowing you to make checks for things like food collisions, wall collisions, growing, etc."
   ]
  }
 ],
 "metadata": {
  "language_info": {
   "name": "python"
  }
 },
 "nbformat": 4,
 "nbformat_minor": 5
}
