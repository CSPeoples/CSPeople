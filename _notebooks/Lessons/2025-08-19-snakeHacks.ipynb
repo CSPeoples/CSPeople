{
 "cells": [
  {
   "cell_type": "raw",
   "id": "5bcdd9a4",
   "metadata": {
    "vscode": {
     "languageId": "raw"
    }
   },
   "source": [
    "---\n",
    "title: Gaming Fundamentals & Snake\n",
    "comments: true\n",
    "layout: post\n",
    "permalink: /snakegaming\n",
    "description: A lesson about the basics of game development, including functions, variables, loops, conditionals, more using Snake as an example and a project to work on.\n",
    "author: Evan S, West S, Ethan W, Nico D\n",
    "---"
   ]
  }
 ],
 "metadata": {
  "language_info": {
   "name": "python"
  }
 },
 "nbformat": 4,
 "nbformat_minor": 5
}
