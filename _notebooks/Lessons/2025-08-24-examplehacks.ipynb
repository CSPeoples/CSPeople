{
 "cells": [
  {
   "cell_type": "raw",
   "id": "ff482d7b",
   "metadata": {
    "vscode": {
     "languageId": "raw"
    }
   },
   "source": [
    "---\n",
    "title: Snake Hacks/Changes\n",
    "comments: true\n",
    "layout: post\n",
    "permalink: /snakegaming/hacks\n",
    "description: A notebook on changes that you can attempt on your own snake game.\n",
    "author: Evan S, West S, Ethan W, Nico D\n",
    "---"
   ]
  },
  {
   "cell_type": "markdown",
   "id": "04316149",
   "metadata": {},
   "source": [
    "# Hacks!\n"
   ]
  },
  {
   "cell_type": "markdown",
   "id": "71ed1b8d",
   "metadata": {},
   "source": [
    "- Now that you know the basics and the outlines of the game, try some changes of your own!\n",
    "- We will provide a list of easy, hard, and one challenge change that you guys can attempt.\n",
    "- Try to do at least two!\n"
   ]
  },
  {
   "cell_type": "markdown",
   "id": "9d161fb1",
   "metadata": {},
   "source": [
    "### Easy Hacks\n",
    "\n",
    "- Change the background color, snake color, and food color\n",
    "- Add or change settings to change the speed of the snake\n",
    "- Increase the amount of length the snake gets from the food\n"
   ]
  },
  {
   "cell_type": "markdown",
   "id": "1c4eb5ca",
   "metadata": {},
   "source": [
    "### Hard Hacks\n",
    "\n",
    "- Change the food to use a different color or image than the snake body\n",
    "- \n",
    "-"
   ]
  },
  {
   "cell_type": "markdown",
   "id": "c38c867e",
   "metadata": {},
   "source": [
    "## Challenge!\n"
   ]
  },
  {
   "cell_type": "markdown",
   "id": "3eea7885",
   "metadata": {},
   "source": [
    "-"
   ]
  },
  {
   "cell_type": "markdown",
   "id": "f490d962",
   "metadata": {},
   "source": [
    "# Our Example"
   ]
  }
 ],
 "metadata": {
  "language_info": {
   "name": "python"
  }
 },
 "nbformat": 4,
 "nbformat_minor": 5
}
