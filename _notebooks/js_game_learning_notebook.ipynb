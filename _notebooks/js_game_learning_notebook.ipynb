{
 "cells": [
  {
   "cell_type": "markdown",
   "id": "2d931a0c",
   "metadata": {},
   "source": [
    "\n",
    "# 🎮 Learning JavaScript Game Basics in Jupyter Notebook\n",
    "\n",
    "This notebook will help you **understand the basics of a simple JavaScript game**.  \n",
    "We'll explain step by step how the code works, and you’ll answer short questions to test your understanding.\n",
    "\n",
    "The game uses:\n",
    "- **HTML `<canvas>`** to draw graphics\n",
    "- **JavaScript classes** for game objects\n",
    "- A **game loop** to keep things moving\n",
    "\n",
    "---\n"
   ]
  },
  {
   "cell_type": "markdown",
   "id": "141d811e",
   "metadata": {},
   "source": [
    "\n",
    "## Step 1: Setting up the Canvas\n",
    "\n",
    "The `<canvas>` element is where the game is drawn.\n",
    "\n",
    "```html\n",
    "<canvas id=\"world\"></canvas>\n",
    "```\n",
    "\n",
    "In JavaScript, we connect to it using:\n",
    "\n",
    "```js\n",
    "const canvas = document.getElementById(\"world\");\n",
    "const ctx = canvas.getContext('2d');\n",
    "```\n",
    "\n",
    "👉 `canvas` represents the game screen.  \n",
    "👉 `ctx` is the \"context\" we use to draw shapes and images.\n"
   ]
  },
  {
   "cell_type": "markdown",
   "id": "8accec95",
   "metadata": {},
   "source": [
    "\n",
    "**📝 Question 1:**  \n",
    "What is the purpose of `getContext('2d')` in the code above?\n",
    "- A) It creates a new HTML canvas\n",
    "- B) It gives us drawing tools to draw on the canvas\n",
    "- C) It loads an image into the canvas\n"
   ]
  },
  {
   "cell_type": "code",
   "execution_count": null,
   "id": "bdc4ef4c",
   "metadata": {},
   "outputs": [],
   "source": [
    "\n",
    "# ✏️ Your Answer:\n",
    "answer1 = \"\"  # Type \"A\", \"B\", or \"C\"\n",
    "answer1\n"
   ]
  },
  {
   "cell_type": "markdown",
   "id": "bb0f2952",
   "metadata": {},
   "source": [
    "\n",
    "## Step 2: Loading Images\n",
    "\n",
    "The game uses two images: a background and a sprite (the player).\n",
    "\n",
    "```js\n",
    "const backgroundImg = new Image();\n",
    "const spriteImg = new Image();\n",
    "backgroundImg.src = \"sky.png\";\n",
    "spriteImg.src = \"plane.png\";\n",
    "```\n",
    "\n",
    "The `.src` tells the image where to load from.  \n",
    "When both are loaded, the game starts.\n"
   ]
  },
  {
   "cell_type": "markdown",
   "id": "1977db96",
   "metadata": {},
   "source": [
    "\n",
    "**📝 Question 2:**  \n",
    "Why do we wait for the images to finish loading before starting the game?\n"
   ]
  },
  {
   "cell_type": "code",
   "execution_count": null,
   "id": "d8c7f9fe",
   "metadata": {},
   "outputs": [],
   "source": [
    "\n",
    "# ✏️ Your Answer:\n",
    "answer2 = \"\"  # Explain in your own words\n",
    "answer2\n"
   ]
  },
  {
   "cell_type": "markdown",
   "id": "e23d07b6",
   "metadata": {},
   "source": [
    "\n",
    "## Step 3: Classes for Game Objects\n",
    "\n",
    "The code uses **classes** to organize things.\n",
    "\n",
    "Example:\n",
    "\n",
    "```js\n",
    "class GameObject {\n",
    "  constructor(image, width, height, x = 0, y = 0, speedRatio = 0) {\n",
    "    this.image = image;\n",
    "    this.width = width;\n",
    "    this.height = height;\n",
    "    this.x = x;\n",
    "    this.y = y;\n",
    "    this.speedRatio = speedRatio;\n",
    "    this.speed = GameWorld.gameSpeed * this.speedRatio;\n",
    "  }\n",
    "  update() {}\n",
    "  draw(ctx) {\n",
    "    ctx.drawImage(this.image, this.x, this.y, this.width, this.height);\n",
    "  }\n",
    "}\n",
    "```\n",
    "\n",
    "👉 A **class** is like a blueprint.  \n",
    "👉 Each **object** made from the class has its own position, size, and image.\n"
   ]
  },
  {
   "cell_type": "markdown",
   "id": "fbcf16c3",
   "metadata": {},
   "source": [
    "\n",
    "**📝 Question 3:**  \n",
    "In the `GameObject` class, what does the `draw(ctx)` function do?\n"
   ]
  },
  {
   "cell_type": "code",
   "execution_count": null,
   "id": "c33e2523",
   "metadata": {},
   "outputs": [],
   "source": [
    "\n",
    "# ✏️ Your Answer:\n",
    "answer3 = \"\"  \n",
    "answer3\n"
   ]
  },
  {
   "cell_type": "markdown",
   "id": "98ba659b",
   "metadata": {},
   "source": [
    "\n",
    "## Step 4: Background and Player\n",
    "\n",
    "The game has two main objects:\n",
    "1. **Background** → scrolls to make it look like movement\n",
    "2. **Player** → the plane that moves up and down\n",
    "\n",
    "The Player uses `Math.sin()` to \"float\" smoothly up and down.\n"
   ]
  },
  {
   "cell_type": "markdown",
   "id": "e6a095ee",
   "metadata": {},
   "source": [
    "\n",
    "**📝 Question 4:**  \n",
    "How does the background give the illusion of movement?\n"
   ]
  },
  {
   "cell_type": "code",
   "execution_count": null,
   "id": "c7e58e9f",
   "metadata": {},
   "outputs": [],
   "source": [
    "\n",
    "# ✏️ Your Answer:\n",
    "answer4 = \"\"  \n",
    "answer4\n"
   ]
  },
  {
   "cell_type": "markdown",
   "id": "66d5dc6b",
   "metadata": {},
   "source": [
    "\n",
    "## Step 5: The Game Loop\n",
    "\n",
    "The `GameWorld` class controls everything.  \n",
    "\n",
    "```js\n",
    "gameLoop() {\n",
    "  this.ctx.clearRect(0, 0, this.width, this.height);\n",
    "  for (const obj of this.objects) {\n",
    "    obj.update();\n",
    "    obj.draw(this.ctx);\n",
    "  }\n",
    "  requestAnimationFrame(this.gameLoop.bind(this));\n",
    "}\n",
    "```\n",
    "\n",
    "👉 The **game loop** clears the screen, updates positions, redraws everything, and repeats.  \n",
    "👉 `requestAnimationFrame` makes the loop run smoothly at ~60fps.\n"
   ]
  },
  {
   "cell_type": "markdown",
   "id": "189a7d33",
   "metadata": {},
   "source": [
    "\n",
    "**📝 Question 5:**  \n",
    "Why do we need to call `clearRect()` before drawing each frame?\n"
   ]
  },
  {
   "cell_type": "code",
   "execution_count": null,
   "id": "104fe03a",
   "metadata": {},
   "outputs": [],
   "source": [
    "\n",
    "# ✏️ Your Answer:\n",
    "answer5 = \"\"  \n",
    "answer5\n"
   ]
  },
  {
   "cell_type": "markdown",
   "id": "c60b392d",
   "metadata": {},
   "source": [
    "\n",
    "## 🎮 Try the Game\n",
    "\n",
    "Now let’s see the game running!\n"
   ]
  },
  {
   "cell_type": "code",
   "execution_count": null,
   "id": "a81dd8cf",
   "metadata": {},
   "outputs": [],
   "source": [
    "\n",
    "from IPython.display import HTML\n",
    "\n",
    "game_code = \"\"\"\n",
    "<canvas id=\"world\"></canvas>\n",
    "<script>\n",
    "  const canvas = document.getElementById(\"world\");\n",
    "  const ctx = canvas.getContext('2d');\n",
    "  const backgroundImg = new Image();\n",
    "  const spriteImg = new Image();\n",
    "  backgroundImg.src = \"https://raw.githubusercontent.com/mdn/content/main/files/en-us/learn/canvas_tutorial/images/rhino.jpg\";\n",
    "  spriteImg.src = \"https://raw.githubusercontent.com/mdn/content/main/files/en-us/learn/canvas_tutorial/images/cat.png\";\n",
    "\n",
    "  let imagesLoaded = 0;\n",
    "  backgroundImg.onload = function() { imagesLoaded++; startGameWorld(); };\n",
    "  spriteImg.onload = function() { imagesLoaded++; startGameWorld(); };\n",
    "\n",
    "  function startGameWorld() {\n",
    "    if (imagesLoaded < 2) return;\n",
    "\n",
    "    class GameObject {\n",
    "      constructor(image, width, height, x = 0, y = 0, speedRatio = 0) {\n",
    "        this.image = image;\n",
    "        this.width = width;\n",
    "        this.height = height;\n",
    "        this.x = x;\n",
    "        this.y = y;\n",
    "        this.speedRatio = speedRatio;\n",
    "        this.speed = GameWorld.gameSpeed * this.speedRatio;\n",
    "      }\n",
    "      update() {}\n",
    "      draw(ctx) {\n",
    "        ctx.drawImage(this.image, this.x, this.y, this.width, this.height);\n",
    "      }\n",
    "    }\n",
    "\n",
    "    class Background extends GameObject {\n",
    "      constructor(image, gameWorld) {\n",
    "        super(image, gameWorld.width, gameWorld.height, 0, 0, 0.5);\n",
    "      }\n",
    "      update() {\n",
    "        this.x = (this.x - this.speed) % this.width;\n",
    "      }\n",
    "      draw(ctx) {\n",
    "        ctx.drawImage(this.image, this.x, this.y, this.width, this.height);\n",
    "        ctx.drawImage(this.image, this.x + this.width, this.y, this.width, this.height);\n",
    "      }\n",
    "    }\n",
    "\n",
    "    class Player extends GameObject {\n",
    "      constructor(image, gameWorld) {\n",
    "        const width = image.naturalWidth / 2;\n",
    "        const height = image.naturalHeight / 2;\n",
    "        const x = (gameWorld.width - width) / 2;\n",
    "        const y = (gameWorld.height - height) / 2;\n",
    "        super(image, width, height, x, y);\n",
    "        this.baseY = y;\n",
    "        this.frame = 0;\n",
    "      }\n",
    "      update() {\n",
    "        this.y = this.baseY + Math.sin(this.frame * 0.05) * 20;\n",
    "        this.frame++;\n",
    "      }\n",
    "    }\n",
    "\n",
    "    class GameWorld {\n",
    "      static gameSpeed = 20;\n",
    "      constructor(backgroundImg, spriteImg) {\n",
    "        this.canvas = document.getElementById(\"world\");\n",
    "        this.ctx = this.canvas.getContext('2d');\n",
    "        this.width = 800;\n",
    "        this.height = 400;\n",
    "        this.canvas.width = this.width;\n",
    "        this.canvas.height = this.height;\n",
    "\n",
    "        this.objects = [\n",
    "         new Background(backgroundImg, this),\n",
    "         new Player(spriteImg, this)\n",
    "        ];\n",
    "      }\n",
    "      gameLoop() {\n",
    "        this.ctx.clearRect(0, 0, this.width, this.height);\n",
    "        for (const obj of this.objects) {\n",
    "          obj.update();\n",
    "          obj.draw(this.ctx);\n",
    "        }\n",
    "        requestAnimationFrame(this.gameLoop.bind(this));\n",
    "      }\n",
    "      start() {\n",
    "        this.gameLoop();\n",
    "      }\n",
    "    }\n",
    "\n",
    "    const world = new GameWorld(backgroundImg, spriteImg);\n",
    "    world.start();\n",
    "  }\n",
    "</script>\n",
    "\"\"\"\n",
    "display(HTML(game_code))\n"
   ]
  },
  {
   "cell_type": "markdown",
   "id": "67686f66",
   "metadata": {},
   "source": [
    "\n",
    "---\n",
    "## 🎯 Wrap-Up\n",
    "\n",
    "You just learned:\n",
    "- How the canvas and context are used for drawing\n",
    "- How images are loaded before the game starts\n",
    "- How classes organize game objects\n",
    "- How the game loop keeps things moving\n",
    "\n",
    "✅ Answer the questions above to check your understanding.  \n",
    "✅ Try editing values like `gameSpeed` or image URLs to experiment!\n"
   ]
  }
 ],
 "metadata": {},
 "nbformat": 4,
 "nbformat_minor": 5
}
