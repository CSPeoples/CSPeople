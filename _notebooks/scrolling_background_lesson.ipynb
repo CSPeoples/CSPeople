{
 "cells": [
  {
   "cell_type": "markdown",
   "id": "021af94e",
   "metadata": {},
   "source": [
    "# 🎮 Scrolling Background Lesson (Beginner-Friendly)\n",
    "\n",
    "Welcome! This notebook will teach you how to create a **scrolling background** for a game step by step.  \n",
    "At the end of each step, you will answer a **checkpoint question** to test your understanding.  \n"
   ]
  },
  {
   "cell_type": "markdown",
   "id": "b2c4ecef",
   "metadata": {},
   "source": [
    "## Step 1: Drawing the Background\n",
    "\n",
    "In canvas games, we use the `drawImage` method to draw images.\n",
    "\n",
    "Example:\n",
    "```javascript\n",
    "ctx.drawImage(image, x, y, width, height);\n",
    "```\n",
    "\n",
    "Checkpoint: Type the code to draw the background at the top-left corner of the canvas.\n"
   ]
  },
  {
   "cell_type": "code",
   "execution_count": null,
   "id": "7a326066",
   "metadata": {},
   "outputs": [],
   "source": [
    "# ⬇️ Type your answer below for Step 1\n",
    "answer1 = \"\"  # Example: \"ctx.drawImage(background, 0, 0);\"\n",
    "\n",
    "# Checkpoint 1\n",
    "correct1 = [\"ctx.drawImage(background, 0, 0);\"]\n",
    "if answer1 in correct1:\n",
    "    print(\"✅ Correct! You drew the background.\")\n",
    "else:\n",
    "    print(\"❌ Try again.\")"
   ]
  },
  {
   "cell_type": "markdown",
   "id": "c7b4377b",
   "metadata": {},
   "source": [
    "## Step 2: Moving the Background\n",
    "\n",
    "We can move the background by changing its **x position** each frame.\n",
    "\n",
    "Example:\n",
    "```javascript\n",
    "backgroundX -= 2;\n",
    "```\n",
    "\n",
    "Checkpoint: Type the code to move the background left by 2 pixels.\n"
   ]
  },
  {
   "cell_type": "code",
   "execution_count": null,
   "id": "6eb9649f",
   "metadata": {},
   "outputs": [],
   "source": [
    "# ⬇️ Type your answer below for Step 2\n",
    "answer2 = \"\"  # Example: \"backgroundX -= 2;\"\n",
    "\n",
    "# Checkpoint 2\n",
    "correct2 = [\"backgroundX -= 2;\", \"backgroundX=backgroundX-2;\"]\n",
    "if answer2 in correct2:\n",
    "    print(\"✅ Correct! The background now scrolls.\")\n",
    "else:\n",
    "    print(\"❌ Try again.\")"
   ]
  },
  {
   "cell_type": "markdown",
   "id": "96325ef2",
   "metadata": {},
   "source": [
    "## Step 3: Resetting the Background\n",
    "\n",
    "To make the background loop, we reset it when it scrolls off screen.\n",
    "\n",
    "Example:\n",
    "```javascript\n",
    "if (backgroundX <= -canvas.width) backgroundX = 0;\n",
    "```\n",
    "\n",
    "Checkpoint: Type the code to reset the background when it goes off screen.\n"
   ]
  },
  {
   "cell_type": "code",
   "execution_count": null,
   "id": "3c104126",
   "metadata": {},
   "outputs": [],
   "source": [
    "# ⬇️ Type your answer below for Step 3\n",
    "answer3 = \"\"  # Example: \"if (backgroundX <= -canvas.width) backgroundX = 0;\"\n",
    "\n",
    "# Checkpoint 3\n",
    "correct3 = [\"if (backgroundX <= -canvas.width) backgroundX = 0;\"]\n",
    "if answer3 in correct3:\n",
    "    print(\"✅ Correct! The background loops forever 🚀\")\n",
    "else:\n",
    "    print(\"❌ Try again.\")"
   ]
  }
 ],
 "metadata": {},
 "nbformat": 4,
 "nbformat_minor": 5
}
